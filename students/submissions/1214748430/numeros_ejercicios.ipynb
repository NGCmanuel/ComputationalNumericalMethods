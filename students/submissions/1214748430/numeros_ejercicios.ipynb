{
 "cells": [
  {
   "cell_type": "markdown",
   "id": "super-silicon",
   "metadata": {},
   "source": [
    "# Exercicios sobre numeros :"
   ]
  },
  {
   "cell_type": "markdown",
   "id": "environmental-observation",
   "metadata": {},
   "source": [
    "#### 1. Imprime primero 10 numeros naturales (1,2,3,4,5,6,7,8,9,10) usando \"for loop\" y print ()"
   ]
  },
  {
   "cell_type": "code",
   "execution_count": 1,
   "id": "executive-austria",
   "metadata": {},
   "outputs": [
    {
     "name": "stdout",
     "output_type": "stream",
     "text": [
      "0\n",
      "1\n",
      "2\n",
      "3\n",
      "4\n",
      "5\n",
      "6\n",
      "7\n",
      "8\n",
      "9\n",
      "10\n"
     ]
    }
   ],
   "source": [
    "for i in range(11):\n",
    "    print(i)"
   ]
  },
  {
   "cell_type": "markdown",
   "id": "loving-george",
   "metadata": {},
   "source": [
    "#### 2. Imprime primero 10 numeros naturales (1,2,3,4,5,6,7,8,9,10)  usando \"while loop\" y print ()"
   ]
  },
  {
   "cell_type": "code",
   "execution_count": 2,
   "id": "manufactured-international",
   "metadata": {},
   "outputs": [
    {
     "name": "stdout",
     "output_type": "stream",
     "text": [
      "0\n",
      "1\n",
      "2\n",
      "3\n",
      "4\n",
      "5\n",
      "6\n",
      "7\n",
      "8\n",
      "9\n",
      "10\n"
     ]
    }
   ],
   "source": [
    "i=0\n",
    "while i<11:\n",
    "    print(i); i+=1"
   ]
  },
  {
   "cell_type": "markdown",
   "id": "beginning-marine",
   "metadata": {},
   "source": [
    "#### 3. Calcular la soma de numeros (1+2+3+4+5+6+7+8+9+10) usando \"for loop\" y guarda resultado en variable \"my_result\""
   ]
  },
  {
   "cell_type": "code",
   "execution_count": 5,
   "id": "neither-segment",
   "metadata": {},
   "outputs": [
    {
     "name": "stdout",
     "output_type": "stream",
     "text": [
      "55\n"
     ]
    }
   ],
   "source": [
    "my_result= 0\n",
    "for i in range(11):\n",
    "    my_result += i\n",
    "\n",
    "print(my_result)"
   ]
  },
  {
   "cell_type": "markdown",
   "id": "indoor-roots",
   "metadata": {},
   "source": [
    "#### 4. Calcular la soma de numeros (1+2+3+4+5+6+7+8+9+10) usando \"while loop\" y guardar resultado en variable \"my_result\""
   ]
  },
  {
   "cell_type": "code",
   "execution_count": 6,
   "id": "infrared-respondent",
   "metadata": {},
   "outputs": [
    {
     "name": "stdout",
     "output_type": "stream",
     "text": [
      "55\n"
     ]
    }
   ],
   "source": [
    "i=0\n",
    "my_result= 0\n",
    "while i<11:\n",
    "    my_result += i; i+=1\n",
    "\n",
    "print(my_result)"
   ]
  },
  {
   "cell_type": "markdown",
   "id": "polished-reason",
   "metadata": {},
   "source": [
    "#### 5. Calcular la soma de numeros par (2+4+6+8+10.. + ...100) usando \"for loop\" y guardar resultado en variable \"my_result\" (pista: usa condicion \"if\" y \"%\")"
   ]
  },
  {
   "cell_type": "code",
   "execution_count": 10,
   "id": "asian-publisher",
   "metadata": {},
   "outputs": [
    {
     "name": "stdout",
     "output_type": "stream",
     "text": [
      "2550\n"
     ]
    }
   ],
   "source": [
    "my_result = 0\n",
    "for i in range(101):\n",
    "    if i%2 == 0: my_result += i\n",
    "\n",
    "print(my_result)"
   ]
  },
  {
   "cell_type": "markdown",
   "id": "accepted-jacksonville",
   "metadata": {},
   "source": [
    "#### 6. Calcular la soma de numeros impar (1+3+5+7+9+... + ...99) usando \"while loop\" y guardar resultado en variable \"my_result\" (pista: usa condicion \"if\" y \"%\")"
   ]
  },
  {
   "cell_type": "code",
   "execution_count": 16,
   "id": "assigned-parameter",
   "metadata": {
    "scrolled": true
   },
   "outputs": [
    {
     "name": "stdout",
     "output_type": "stream",
     "text": [
      "2500\n"
     ]
    }
   ],
   "source": [
    "i=0\n",
    "my_result= 0\n",
    "while i<101:\n",
    "    if i%2 != 0: my_result += i\n",
    "    i+=1\n",
    "\n",
    "print(my_result)"
   ]
  },
  {
   "cell_type": "markdown",
   "id": "crucial-treat",
   "metadata": {},
   "source": [
    "#### 7. Definir una function que se llama func_sum_even_odd(b) que recibe un parametro \"b\" - valor numerico. La funcion calcula soma de numeros pares y numeros impares separamente entre 0 y b (los dos valores incluidos) . La funcion guarda resultados en dos variables en sum_even, sum_odd y devuelve ambos usando \"return\". (usa metodo: while)\n",
    "\n",
    "ejemplo de ejecucion:   \n",
    "sum_even,sum_odd = func_sum_even_odd(10)  \n",
    "print(sum_even,sum_odd)  \n",
    "30,25  \n",
    "\n",
    "#### Pero si \"b\" no es ni integer ni float funcion devuelve sum_even=0,y sum_odd=0 y imprime mensaje: \"argument must be an integer or float\"   (usa: \"isinstance\" o negacion de isinstance: \"not isinstance\" conjunto con operador logico \"or\" para verificar si el argumento es int of float)\n",
    "\n",
    "ejemplo de ejecucion:  \n",
    "sum_even,sum_odd = func_sum_even_odd('z')  \n",
    "\"argument must be an integer or float\"  "
   ]
  },
  {
   "cell_type": "code",
   "execution_count": 32,
   "id": "comparative-corruption",
   "metadata": {},
   "outputs": [],
   "source": [
    "def func_sum_even_odd(b):\n",
    "    if isinstance(b, int):\n",
    "        sum_even = 0\n",
    "        sum_odd = 0\n",
    "    \n",
    "        for i in range(b+1):\n",
    "            if i%2 == 0: sum_even += i\n",
    "            else: sum_odd += i\n",
    "            \n",
    "        print(sum_even, sum_odd)\n",
    "    \n",
    "    else: print(\"argument must be an integer\" )"
   ]
  },
  {
   "cell_type": "code",
   "execution_count": 33,
   "id": "06cf38e5",
   "metadata": {},
   "outputs": [
    {
     "name": "stdout",
     "output_type": "stream",
     "text": [
      "30 25\n"
     ]
    }
   ],
   "source": [
    "func_sum_even_odd(10)"
   ]
  },
  {
   "cell_type": "markdown",
   "id": "contemporary-exemption",
   "metadata": {},
   "source": [
    "#### 8. Modifica funcion anterior y usa conjunto: try:... except:... (mira arriba en el texto de la classe)\n",
    "try:   \n",
    "--->intenta hacer si no sale error  \n",
    "except:  \n",
    "--->hace otra cosa si sale error    "
   ]
  },
  {
   "cell_type": "code",
   "execution_count": 34,
   "id": "dominican-tomato",
   "metadata": {},
   "outputs": [],
   "source": [
    "def f_sum_even_odd(b):\n",
    "    try:\n",
    "        sum_even = 0\n",
    "        sum_odd = 0\n",
    "    \n",
    "        for i in range(b+1):\n",
    "            if i%2 == 0: sum_even += i\n",
    "            else: sum_odd += i\n",
    "                \n",
    "        print(sum_even, sum_odd)\n",
    "    except: print(\"argument must be an integer\")"
   ]
  },
  {
   "cell_type": "code",
   "execution_count": 37,
   "id": "295f4747",
   "metadata": {},
   "outputs": [
    {
     "name": "stdout",
     "output_type": "stream",
     "text": [
      "argument must be an integer\n"
     ]
    }
   ],
   "source": [
    "func_sum_even_odd('10')"
   ]
  }
 ],
 "metadata": {
  "kernelspec": {
   "display_name": "Python 3",
   "language": "python",
   "name": "python3"
  },
  "language_info": {
   "codemirror_mode": {
    "name": "ipython",
    "version": 3
   },
   "file_extension": ".py",
   "mimetype": "text/x-python",
   "name": "python",
   "nbconvert_exporter": "python",
   "pygments_lexer": "ipython3",
   "version": "3.8.8"
  }
 },
 "nbformat": 4,
 "nbformat_minor": 5
}
