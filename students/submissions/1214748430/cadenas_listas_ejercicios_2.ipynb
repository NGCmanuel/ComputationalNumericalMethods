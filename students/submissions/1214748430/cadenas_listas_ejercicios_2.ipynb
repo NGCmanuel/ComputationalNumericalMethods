{
 "cells": [
  {
   "cell_type": "markdown",
   "id": "adolescent-sally",
   "metadata": {},
   "source": [
    "## Exercise 2: Lists"
   ]
  },
  {
   "cell_type": "markdown",
   "id": "prime-undergraduate",
   "metadata": {},
   "source": [
    "### Este codigo abajo importa un libro entero a un string que se llama \"book\""
   ]
  },
  {
   "cell_type": "code",
   "execution_count": 112,
   "id": "documentary-museum",
   "metadata": {},
   "outputs": [
    {
     "data": {
      "text/plain": [
       "10396"
      ]
     },
     "execution_count": 112,
     "metadata": {},
     "output_type": "execute_result"
    }
   ],
   "source": [
    "## Challange:\n",
    "## List comprehenions are not necessary for this challenge\n",
    "\n",
    "from urllib.request import urlopen\n",
    "response = urlopen('https://www.gutenberg.org/files/74/74-0.txt')\n",
    "book = str(response.read())\n",
    "book.find('HARTFORD, 1876.')"
   ]
  },
  {
   "cell_type": "code",
   "execution_count": 113,
   "id": "metropolitan-magazine",
   "metadata": {},
   "outputs": [
    {
     "name": "stdout",
     "output_type": "stream",
     "text": [
      "510671\n"
     ]
    }
   ],
   "source": [
    "print(len(book))"
   ]
  },
  {
   "cell_type": "markdown",
   "id": "continuing-metabolism",
   "metadata": {},
   "source": [
    "### Siguiendo el material de la clase pasada hacer un plot de occurencia de un caracter (Jim o Tom o Huck) de libro atraves de los capitulos\n"
   ]
  },
  {
   "cell_type": "code",
   "execution_count": 118,
   "id": "628dec1e",
   "metadata": {},
   "outputs": [],
   "source": [
    "def Tom_count(t):\n",
    "    i=0\n",
    "    while True:\n",
    "        if 'Tom' in t: \n",
    "            c = t.index('Tom')\n",
    "            i+=1\n",
    "        else: break\n",
    "\n",
    "        t = t[c+1:]\n",
    "    \n",
    "    print('La palabra Tom aparece ',i,' veces en el texto')"
   ]
  },
  {
   "cell_type": "code",
   "execution_count": 119,
   "id": "6810fbda",
   "metadata": {},
   "outputs": [
    {
     "name": "stdout",
     "output_type": "stream",
     "text": [
      "La palabra Tom aparece  808  veces en el texto\n"
     ]
    }
   ],
   "source": [
    "Tom_count(book)"
   ]
  },
  {
   "cell_type": "code",
   "execution_count": 121,
   "id": "fc7d8dea",
   "metadata": {},
   "outputs": [],
   "source": [
    "def Jim_count(t):\n",
    "    i=0\n",
    "    while True:\n",
    "        if 'Jim' in t: \n",
    "            c = t.index('Jim')\n",
    "            i+=1\n",
    "        else: break\n",
    "\n",
    "        t = t[c+1:]\n",
    "    \n",
    "    print('La palabra Jim aparece ',i,' veces en el texto')"
   ]
  },
  {
   "cell_type": "code",
   "execution_count": 122,
   "id": "851a66e7",
   "metadata": {},
   "outputs": [
    {
     "name": "stdout",
     "output_type": "stream",
     "text": [
      "La palabra Jim aparece  20  veces en el texto\n"
     ]
    }
   ],
   "source": [
    "Jim_count(book)"
   ]
  },
  {
   "cell_type": "code",
   "execution_count": 123,
   "id": "76f9650c",
   "metadata": {},
   "outputs": [],
   "source": [
    "def Huck_count(t):\n",
    "    i=0\n",
    "    while True:\n",
    "        if 'Huck' in t: \n",
    "            c = t.index('Huck')\n",
    "            i+=1\n",
    "        else: break\n",
    "\n",
    "        t = t[c+1:]\n",
    "    \n",
    "    print('La palabra Huck aparece ',i,' veces en el texto')"
   ]
  },
  {
   "cell_type": "code",
   "execution_count": 125,
   "id": "a7b0463f",
   "metadata": {},
   "outputs": [
    {
     "name": "stdout",
     "output_type": "stream",
     "text": [
      "La palabra Huck aparece  295  veces en el texto\n"
     ]
    }
   ],
   "source": [
    "Huck_count(book)"
   ]
  },
  {
   "cell_type": "code",
   "execution_count": null,
   "id": "c94e00d5",
   "metadata": {},
   "outputs": [],
   "source": []
  }
 ],
 "metadata": {
  "kernelspec": {
   "display_name": "Python 3",
   "language": "python",
   "name": "python3"
  },
  "language_info": {
   "codemirror_mode": {
    "name": "ipython",
    "version": 3
   },
   "file_extension": ".py",
   "mimetype": "text/x-python",
   "name": "python",
   "nbconvert_exporter": "python",
   "pygments_lexer": "ipython3",
   "version": "3.8.8"
  }
 },
 "nbformat": 4,
 "nbformat_minor": 5
}
