{
 "cells": [
  {
   "cell_type": "code",
   "execution_count": 1,
   "id": "maritime-internship",
   "metadata": {},
   "outputs": [
    {
     "name": "stdout",
     "output_type": "stream",
     "text": [
      "example\n",
      " OK  got: 'H' expected: 'H'\n",
      " OK  got: 'wy' expected: 'wy'\n",
      " OK  got: '' expected: ''\n",
      "donuts\n",
      "  X  got: None expected: 'Numbero de donas: 4'\n",
      "  X  got: None expected: 'Numbero de donas: 9'\n",
      "  X  got: None expected: 'Numbero de donas: muchos'\n",
      "  X  got: None expected: 'Numbero de donas: muchos'\n",
      "both_ends\n",
      "  X  got: None expected: 'spng'\n",
      "  X  got: None expected: 'Helo'\n",
      "  X  got: None expected: ''\n",
      "  X  got: None expected: 'xyyz'\n",
      "fix_start\n",
      "  X  got: None expected: 'ba**le'\n",
      "  X  got: None expected: 'a*rdv*rk'\n",
      "  X  got: None expected: 'goo*le'\n",
      "  X  got: None expected: 'donut'\n",
      "mix_up\n",
      "  X  got: None expected: 'pox mid'\n",
      "  X  got: None expected: 'dig donner'\n",
      "  X  got: None expected: 'spash gnort'\n",
      "  X  got: None expected: 'fizzy perm'\n",
      "front_back\n",
      "  X  got: None expected: 'abxcdy'\n",
      "  X  got: None expected: 'abcxydez'\n",
      "  X  got: None expected: 'KitDontenut'\n",
      "extract\n",
      "  X  got: None expected: 14.4\n",
      "  X  got: None expected: 1250.42\n",
      "  X  got: None expected: 25.1\n"
     ]
    }
   ],
   "source": [
    "# LEEME\n",
    "# Despues de ejecutar este codigo los resultados aparecen en la celula abajo\n",
    "# verifica sus respuestas!\n",
    "\n",
    "\n",
    "# Ejemplo\n",
    "# para una cadena dada, devuelva una nueva cadena hecha de \n",
    "# primer y último carácter \n",
    "# si la cadena tiene menos que dos caracteres devuelva la nueva cadena con solo el primer carácter\n",
    "# si la cadena es vacia devuelve cadena vacia\n",
    "\n",
    "def first_last(some_string):\n",
    "    if len(some_string)==0:\n",
    "        result=''\n",
    "    if len(some_string)==1:\n",
    "        result=some_string[0]\n",
    "    if len(some_string)>1:\n",
    "        result=some_string[0]+some_string[-1]\n",
    "    return result\n",
    "\n",
    "# A. donas\n",
    "# Dado un numero entero integer de un número de donas, devuelva una cadena\n",
    "# de la forma 'Numero de donas: <count>', donde <count> es el número\n",
    "# Sin embargo, si el recuento es 10 o más, use la palabra 'muchos'\n",
    "# Entonces donuts(5) devuelve 'Numero de donas: 5'\n",
    "# y donuts(23) devuelve 'Numero de donas: muchos\n",
    "\n",
    "def donuts(count):\n",
    "    if count<0: string ='Escoja un número positivo'\n",
    "    else:\n",
    "        string= 'Número de donas: '\n",
    "        if count<10: string += str(count)\n",
    "        else: string += 'Muchas'        \n",
    "    return string\n",
    "\n",
    "# B. both_ends\n",
    "# Dada una cadena s, devuelve una cadena hecha de las primeras 2\n",
    "# y los últimos 2 caracteres de la cuerda original,\n",
    "# así que 'spring' produce 'spng'. Sin embargo, \n",
    "# si la longitud de la cadena es menor que 2, \n",
    "# devuelva en su lugar la cadena vacía.\n",
    "def both_ends(s):\n",
    "    if type(s)==str:\n",
    "        if len(s)>2: res = s[0]+s[1]+s[-2]+s[-1]\n",
    "        else: res = ''\n",
    "    else: res= 'Ingrese un string'\n",
    "    return res\n",
    "\n",
    "# C. fix_start\n",
    "# Dada una cadena s, devuelve una cadena\n",
    "# donde todas las ocurrencias de su primer caracter tienen\n",
    "# se ha cambiado a '*', excepto que no cambie el primer char en sí.\n",
    "# por ejemplo, 'babble' produce 'ba**le'\n",
    "# Supongamos que la cadena tiene una longitud 1 o superior.\n",
    "# Sugerencia: s.replace(stra, strb) devuelve una versión de string s\n",
    "# donde todas las instancias de stra han sido reemplazadas por strb.\n",
    "def fix_start(s):\n",
    "    if type(s)==str:\n",
    "        if len(s)>0: r = s[0]+s[1:].replace(s[0],'*')\n",
    "        else: r = 'Ingrese un String con al menos un caracter'\n",
    "    else: r = 'Ingrese un string'\n",
    "    return r\n",
    "\n",
    "\n",
    "# D. MixUp\n",
    "# Dadas las cadenas a y b, devuelve una sola cadena con a y b separadas\n",
    "# por un espacio '<a> <b>', excepto intercambiar los primeros 2 caracteres de cada cadena.\n",
    "# por ejemplo.\n",
    "#   'mix', pod' -> 'pox mid'\n",
    "#   'dog', 'dinner' -> 'dig donner'\n",
    "# Supongamos que a y b son de longitud 2 o más.\n",
    "def mix_up(a, b):\n",
    "    if type(a)==str and type(b)==str:\n",
    "        if len(a)>1 and len(b)>1: \n",
    "            r1 = a.replace(a[0],b[0]); r1 = r1.replace(a[1],b[1])\n",
    "            r2 = b.replace(b[0],a[0]); r2 = r2.replace(b[1],a[1])\n",
    "            r = r1+' '+r2\n",
    "        else: r = 'Ingrese strings con dos o más caracteres'\n",
    "    else: r = 'Ingrese strings'\n",
    "    return r    \n",
    "\n",
    "\n",
    "# E. front_back\n",
    "# Considere dividir una cadena en dos mitades.\n",
    "# Si la longitud es par, las mitades delantera y trasera tienen la misma longitud.\n",
    "# Si la longitud es impar, diremos que el caracter extra va en la mitad delantera.\n",
    "# por ejemplo, 'abcde', la mitad delantera es 'abc', la mitad trasera 'de'.\n",
    "# Dadas 2 cadenas, a y b, devuelven una cadena de la forma\n",
    "# a-front + b-front + a-back + b-back\n",
    "# ejemplo si dos cadenas son pares: a='xyzt', b='abcd'. result='xyabztcd'\n",
    "\n",
    "def front_back(a,b):\n",
    "    if type(a)==str and type(b)==str:\n",
    "        #Para a:\n",
    "        if len(a)%2 ==0:\n",
    "            m = len(a)//2\n",
    "            a_front = a[:m]; a_back = a[m:]\n",
    "        else:\n",
    "            m = len(a)//2\n",
    "            a_front = a[:m+1]; a_back = a[m+1:]\n",
    "        #Para b:\n",
    "        if len(b)%2 ==0:\n",
    "            m = len(b)//2\n",
    "            b_front = b[:m]; b_back = b[m:]\n",
    "        else:\n",
    "            m = len(b)//2\n",
    "            b_front = b[:m+1]; b_back = b[m+1:]\n",
    "            \n",
    "        r = a_front + b_front + a_back + b_back\n",
    "            \n",
    "    else: r = 'Ingrese strings'\n",
    "    return r\n",
    "\n",
    "# Desafío\n",
    "# F. Extraer el valor del tiempo (time=...) como float de una cadena\n",
    "# conversion se hace usando float(14) que devuelve 14.0\n",
    "# recuerda que el valor del tiempo puede tener formato de dos digitos o tres digitos como\n",
    "# dd.dd o ddd.d o dd.dd... pero siempre terminará con la cadena 'ms'\n",
    "# ejemplo de cadena: \n",
    "# '64 bytes de bogota.net (172.217.173.36): ttl=117 time=14.4 ms'\n",
    "def extract_time(s):\n",
    "    r = float(s[s.index('tiempo=')+7:s.index('ms')])\n",
    "    return r\n",
    "#ejemplo: \n",
    "#s='Respuesta desde 2800:3f0:4005:40a::2004: tiempo=29ms'\n",
    "#extract_time(s)\n",
    "\n",
    "ping www.google.com\n",
    "\n",
    "# DO NOT EDIT BELOW\n",
    "#############################################################################################################################################\n",
    "#############################################################################################################################################\n",
    "# Provided simple test() function used in main() to print\n",
    "# what each function returns vs. what it's supposed to return.\n",
    "def test(got, expected):\n",
    "  if got == expected:\n",
    "    prefix = ' OK '\n",
    "  else:\n",
    "    prefix = '  X '\n",
    "  print('%s got: %s expected: %s' % (prefix, repr(got), repr(expected)))\n",
    "\n",
    "\n",
    "# Provided main() calls the above functions with interesting inputs,\n",
    "# using test() to check if each result is correct or not.\n",
    "def main():\n",
    "    \n",
    "  print('example')\n",
    "  test(first_last('H'), 'H')\n",
    "  test(first_last('what an amazing day'), 'wy')\n",
    "  test(first_last(''), '')\n",
    "\n",
    "  print('donuts')\n",
    "  # Each line calls donuts, compares its result to the expected for that call.\n",
    "  test(donuts(4), 'Numbero de donas: 4')\n",
    "  test(donuts(9), 'Numbero de donas: 9')\n",
    "  test(donuts(10), 'Numbero de donas: muchos')\n",
    "  test(donuts(99), 'Numbero de donas: muchos')\n",
    "\n",
    "  print\n",
    "  print('both_ends')\n",
    "  test(both_ends('spring'), 'spng')\n",
    "  test(both_ends('Hello'), 'Helo')\n",
    "  test(both_ends('a'), '')\n",
    "  test(both_ends('xyz'), 'xyyz')\n",
    "\n",
    "  \n",
    "  print\n",
    "  print('fix_start')\n",
    "  test(fix_start('babble'), 'ba**le')\n",
    "  test(fix_start('aardvark'), 'a*rdv*rk')\n",
    "  test(fix_start('google'), 'goo*le')\n",
    "  test(fix_start('donut'), 'donut')\n",
    "\n",
    "  print\n",
    "  print('mix_up')\n",
    "  test(mix_up('mix', 'pod'), 'pox mid')\n",
    "  test(mix_up('dog', 'dinner'), 'dig donner')\n",
    "  test(mix_up('gnash', 'sport'), 'spash gnort')\n",
    "  test(mix_up('pezzy', 'firm'), 'fizzy perm')\n",
    "\n",
    "  print\n",
    "  print('front_back')\n",
    "  test(front_back('abcd', 'xy'), 'abxcdy')\n",
    "  test(front_back('abcde', 'xyz'), 'abcxydez')\n",
    "  test(front_back('Kitten', 'Donut'), 'KitDontenut')\n",
    "\n",
    "  print\n",
    "  print('extract')\n",
    "  test(extract_time('64 bytes from bog02s12-in-f4.1e100.net (172.217.173.36): icmp_seq=1 ttl=117 time=14.4 ms'), 14.4)\n",
    "  test(extract_time('64 bytes from bog02s12-in-f4.1e100.net (172.217.173.36): icmp_seq=1 ttl=1147 time=1250.42 ms'), 1250.42)\n",
    "  test(extract_time('64 bytes from bog02s12-in-.net (172.217.173.36): icmp_seq=1 ttl=1217 time=25.1 ms google statistics'), 25.1)\n",
    "\n",
    "\n",
    "# Standard boilerplate to call the main() function.\n",
    "if __name__ == '__main__':\n",
    "  main()\n"
   ]
  },
  {
   "cell_type": "code",
   "execution_count": 145,
   "id": "f6b29b8c",
   "metadata": {
    "scrolled": true
   },
   "outputs": [
    {
     "data": {
      "text/plain": [
       "'Número de donas: 5'"
      ]
     },
     "execution_count": 145,
     "metadata": {},
     "output_type": "execute_result"
    }
   ],
   "source": [
    "donuts(5)"
   ]
  },
  {
   "cell_type": "code",
   "execution_count": 146,
   "id": "d765ebe4",
   "metadata": {},
   "outputs": [
    {
     "data": {
      "text/plain": [
       "'spng'"
      ]
     },
     "execution_count": 146,
     "metadata": {},
     "output_type": "execute_result"
    }
   ],
   "source": [
    "both_ends('spring')"
   ]
  },
  {
   "cell_type": "code",
   "execution_count": 139,
   "id": "de95b2ea",
   "metadata": {
    "scrolled": false
   },
   "outputs": [
    {
     "data": {
      "text/plain": [
       "'recu**encia'"
      ]
     },
     "execution_count": 139,
     "metadata": {},
     "output_type": "execute_result"
    }
   ],
   "source": [
    "fix_start('recurrencia')"
   ]
  },
  {
   "cell_type": "code",
   "execution_count": 140,
   "id": "d7334797",
   "metadata": {},
   "outputs": [
    {
     "data": {
      "text/plain": [
       "'Fardadaro Velso'"
      ]
     },
     "execution_count": 140,
     "metadata": {},
     "output_type": "execute_result"
    }
   ],
   "source": [
    "mix_up('Verdadero', 'Falso')"
   ]
  },
  {
   "cell_type": "code",
   "execution_count": 141,
   "id": "f1720332",
   "metadata": {},
   "outputs": [
    {
     "data": {
      "text/plain": [
       "'abxyczt'"
      ]
     },
     "execution_count": 141,
     "metadata": {},
     "output_type": "execute_result"
    }
   ],
   "source": [
    "front_back('abc', 'xyzt')"
   ]
  },
  {
   "cell_type": "code",
   "execution_count": 147,
   "id": "8e6314b8",
   "metadata": {},
   "outputs": [
    {
     "data": {
      "text/plain": [
       "29.0"
      ]
     },
     "execution_count": 147,
     "metadata": {},
     "output_type": "execute_result"
    }
   ],
   "source": [
    "c='Respuesta desde 2800:3f0:4005:40a::2004: tiempo=29ms'\n",
    "extract_time(c)"
   ]
  }
 ],
 "metadata": {
  "kernelspec": {
   "display_name": "Python 3",
   "language": "python",
   "name": "python3"
  },
  "language_info": {
   "codemirror_mode": {
    "name": "ipython",
    "version": 3
   },
   "file_extension": ".py",
   "mimetype": "text/x-python",
   "name": "python",
   "nbconvert_exporter": "python",
   "pygments_lexer": "ipython3",
   "version": "3.8.8"
  }
 },
 "nbformat": 4,
 "nbformat_minor": 5
}
